{
 "cells": [
  {
   "cell_type": "code",
   "execution_count": 1,
   "id": "f3b8a790",
   "metadata": {},
   "outputs": [],
   "source": [
    "#Import necessary libraries\n",
    "import pandas as pd\n",
    "import numpy as np\n",
    "import matplotlib.pyplot as plt\n",
    "import seaborn as sns\n",
    "from sklearn.model_selection import train_test_split\n",
    "from sklearn.preprocessing import LabelEncoder, StandardScaler\n",
    "from sklearn.linear_model import LogisticRegression, LinearRegression\n",
    "from sklearn.metrics import accuracy_score, classification_report, mean_squared_error, r2_score\n",
    "from sklearn.ensemble import RandomForestClassifier, RandomForestRegressor"
   ]
  },
  {
   "cell_type": "code",
   "execution_count": 2,
   "id": "e26b73c7",
   "metadata": {},
   "outputs": [
    {
     "data": {
      "text/html": [
       "<div>\n",
       "<style scoped>\n",
       "    .dataframe tbody tr th:only-of-type {\n",
       "        vertical-align: middle;\n",
       "    }\n",
       "\n",
       "    .dataframe tbody tr th {\n",
       "        vertical-align: top;\n",
       "    }\n",
       "\n",
       "    .dataframe thead th {\n",
       "        text-align: right;\n",
       "    }\n",
       "</style>\n",
       "<table border=\"1\" class=\"dataframe\">\n",
       "  <thead>\n",
       "    <tr style=\"text-align: right;\">\n",
       "      <th></th>\n",
       "      <th>Unnamed: 0</th>\n",
       "      <th>Date</th>\n",
       "      <th>AveragePrice</th>\n",
       "      <th>Total Volume</th>\n",
       "      <th>4046</th>\n",
       "      <th>4225</th>\n",
       "      <th>4770</th>\n",
       "      <th>Total Bags</th>\n",
       "      <th>Small Bags</th>\n",
       "      <th>Large Bags</th>\n",
       "      <th>XLarge Bags</th>\n",
       "      <th>type</th>\n",
       "      <th>year</th>\n",
       "      <th>region</th>\n",
       "    </tr>\n",
       "  </thead>\n",
       "  <tbody>\n",
       "    <tr>\n",
       "      <th>0</th>\n",
       "      <td>0.0</td>\n",
       "      <td>27-12-2015</td>\n",
       "      <td>1.33</td>\n",
       "      <td>64236.62</td>\n",
       "      <td>1036.74</td>\n",
       "      <td>54454.85</td>\n",
       "      <td>48.16</td>\n",
       "      <td>8696.87</td>\n",
       "      <td>8603.62</td>\n",
       "      <td>93.25</td>\n",
       "      <td>0.0</td>\n",
       "      <td>conventional</td>\n",
       "      <td>2015.0</td>\n",
       "      <td>Albany</td>\n",
       "    </tr>\n",
       "    <tr>\n",
       "      <th>1</th>\n",
       "      <td>1.0</td>\n",
       "      <td>20-12-2015</td>\n",
       "      <td>1.35</td>\n",
       "      <td>54876.98</td>\n",
       "      <td>674.28</td>\n",
       "      <td>44638.81</td>\n",
       "      <td>58.33</td>\n",
       "      <td>9505.56</td>\n",
       "      <td>9408.07</td>\n",
       "      <td>97.49</td>\n",
       "      <td>0.0</td>\n",
       "      <td>conventional</td>\n",
       "      <td>2015.0</td>\n",
       "      <td>Albany</td>\n",
       "    </tr>\n",
       "    <tr>\n",
       "      <th>2</th>\n",
       "      <td>2.0</td>\n",
       "      <td>13-12-2015</td>\n",
       "      <td>0.93</td>\n",
       "      <td>118220.22</td>\n",
       "      <td>794.70</td>\n",
       "      <td>109149.67</td>\n",
       "      <td>130.50</td>\n",
       "      <td>8145.35</td>\n",
       "      <td>8042.21</td>\n",
       "      <td>103.14</td>\n",
       "      <td>0.0</td>\n",
       "      <td>conventional</td>\n",
       "      <td>2015.0</td>\n",
       "      <td>Albany</td>\n",
       "    </tr>\n",
       "    <tr>\n",
       "      <th>3</th>\n",
       "      <td>3.0</td>\n",
       "      <td>06-12-2015</td>\n",
       "      <td>1.08</td>\n",
       "      <td>78992.15</td>\n",
       "      <td>1132.00</td>\n",
       "      <td>71976.41</td>\n",
       "      <td>72.58</td>\n",
       "      <td>5811.16</td>\n",
       "      <td>5677.40</td>\n",
       "      <td>133.76</td>\n",
       "      <td>0.0</td>\n",
       "      <td>conventional</td>\n",
       "      <td>2015.0</td>\n",
       "      <td>Albany</td>\n",
       "    </tr>\n",
       "    <tr>\n",
       "      <th>4</th>\n",
       "      <td>4.0</td>\n",
       "      <td>29-11-2015</td>\n",
       "      <td>1.28</td>\n",
       "      <td>51039.60</td>\n",
       "      <td>941.48</td>\n",
       "      <td>43838.39</td>\n",
       "      <td>75.78</td>\n",
       "      <td>6183.95</td>\n",
       "      <td>5986.26</td>\n",
       "      <td>197.69</td>\n",
       "      <td>0.0</td>\n",
       "      <td>conventional</td>\n",
       "      <td>2015.0</td>\n",
       "      <td>Albany</td>\n",
       "    </tr>\n",
       "  </tbody>\n",
       "</table>\n",
       "</div>"
      ],
      "text/plain": [
       "   Unnamed: 0        Date  AveragePrice  Total Volume     4046       4225  \\\n",
       "0         0.0  27-12-2015          1.33      64236.62  1036.74   54454.85   \n",
       "1         1.0  20-12-2015          1.35      54876.98   674.28   44638.81   \n",
       "2         2.0  13-12-2015          0.93     118220.22   794.70  109149.67   \n",
       "3         3.0  06-12-2015          1.08      78992.15  1132.00   71976.41   \n",
       "4         4.0  29-11-2015          1.28      51039.60   941.48   43838.39   \n",
       "\n",
       "     4770  Total Bags  Small Bags  Large Bags  XLarge Bags          type  \\\n",
       "0   48.16     8696.87     8603.62       93.25          0.0  conventional   \n",
       "1   58.33     9505.56     9408.07       97.49          0.0  conventional   \n",
       "2  130.50     8145.35     8042.21      103.14          0.0  conventional   \n",
       "3   72.58     5811.16     5677.40      133.76          0.0  conventional   \n",
       "4   75.78     6183.95     5986.26      197.69          0.0  conventional   \n",
       "\n",
       "     year  region  \n",
       "0  2015.0  Albany  \n",
       "1  2015.0  Albany  \n",
       "2  2015.0  Albany  \n",
       "3  2015.0  Albany  \n",
       "4  2015.0  Albany  "
      ]
     },
     "execution_count": 2,
     "metadata": {},
     "output_type": "execute_result"
    }
   ],
   "source": [
    "#Read and load the dataset\n",
    "data = pd.read_csv('https://raw.githubusercontent.com/dsrscientist/Data-Science-ML-Capstone-Projects/master/avocado.csv')\n",
    "data.head()"
   ]
  },
  {
   "cell_type": "code",
   "execution_count": 3,
   "id": "8be63bc5",
   "metadata": {},
   "outputs": [
    {
     "data": {
      "text/plain": [
       "Unnamed: 0      14951\n",
       "Date            14951\n",
       "AveragePrice    14951\n",
       "Total Volume    14951\n",
       "4046            14951\n",
       "4225            14951\n",
       "4770            14951\n",
       "Total Bags      14951\n",
       "Small Bags      14951\n",
       "Large Bags      14951\n",
       "XLarge Bags     14951\n",
       "type            14951\n",
       "year            14951\n",
       "region          14951\n",
       "dtype: int64"
      ]
     },
     "execution_count": 3,
     "metadata": {},
     "output_type": "execute_result"
    }
   ],
   "source": [
    "#check for missing values\n",
    "data.isnull().sum()"
   ]
  },
  {
   "cell_type": "code",
   "execution_count": 4,
   "id": "24e35e10",
   "metadata": {},
   "outputs": [],
   "source": [
    "#Filling missing values with mean, median and mode\n",
    "data['Total Volume'].fillna(data['Total Volume'].mean(), inplace=True)\n",
    "data['4046'].fillna(data['4046'].median(), inplace=True)\n",
    "data['4225'].fillna(data['4225'].mean(), inplace=True)\n",
    "data['4770'].fillna(data['4770'].median(), inplace=True)\n",
    "data['region'].fillna(data['region'].mode()[0], inplace=True)\n",
    "data['AveragePrice'].interpolate(method='linear', inplace=True)\n",
    "\n",
    "data['type'].fillna(data['type'].mode()[0], inplace=True)\n",
    "data['Total Bags'].fillna(data['Total Bags'].median(), inplace=True)\n",
    "data['Small Bags'].fillna(data['Small Bags'].median(), inplace=True)\n",
    "data['Large Bags'].fillna(data['Large Bags'].median(), inplace=True)\n",
    "data['XLarge Bags'].fillna(data['XLarge Bags'].median(), inplace=True)"
   ]
  },
  {
   "cell_type": "code",
   "execution_count": 5,
   "id": "6157525c",
   "metadata": {},
   "outputs": [],
   "source": [
    "#Drop unecessary columns\n",
    "data = data.drop(columns=['Unnamed: 0', 'Date', 'year'])"
   ]
  },
  {
   "cell_type": "code",
   "execution_count": 6,
   "id": "31380e18",
   "metadata": {},
   "outputs": [],
   "source": [
    "#Encode type and region for classification\n",
    "label_encoder = LabelEncoder()\n",
    "data['type'] = label_encoder.fit_transform(data['type'])\n",
    "data['region'] = label_encoder.fit_transform(data['region'])"
   ]
  },
  {
   "cell_type": "code",
   "execution_count": 7,
   "id": "af576096",
   "metadata": {},
   "outputs": [],
   "source": [
    "X = data.drop(columns=['AveragePrice', 'type'])\n",
    "y_classification = data['type']\n",
    "y_regression = data['AveragePrice']\n",
    "\n",
    "#Train-test for classification\n",
    "X_train_class, X_test_class, y_train_class, y_test_class = train_test_split(X, y_classification, test_size=0.2, random_state=42)\n",
    "\n",
    "#Train-test for regression\n",
    "X_train_reg, X_test_reg, y_train_reg, y_test_reg = train_test_split(X, y_regression, test_size=0.2, random_state=42)\n",
    "\n",
    "scaler = StandardScaler()\n",
    "X_train_reg = scaler.fit_transform(X_train_reg)\n",
    "X_test_reg = scaler.transform(X_test_reg)"
   ]
  },
  {
   "cell_type": "code",
   "execution_count": 8,
   "id": "b273264b",
   "metadata": {},
   "outputs": [
    {
     "name": "stdout",
     "output_type": "stream",
     "text": [
      "Classification Accuracy: 1.0\n",
      "Classification Report:               precision    recall  f1-score   support\n",
      "\n",
      "           0       1.00      1.00      1.00      3294\n",
      "\n",
      "    accuracy                           1.00      3294\n",
      "   macro avg       1.00      1.00      1.00      3294\n",
      "weighted avg       1.00      1.00      1.00      3294\n",
      "\n"
     ]
    }
   ],
   "source": [
    "#Training a Random Forest Classifier model for classification\n",
    "clf = RandomForestClassifier(n_estimators=100, random_state=42)\n",
    "clf.fit(X_train_class, y_train_class)\n",
    "y_pred_class = clf.predict(X_test_class)\n",
    "\n",
    "#Evaluating the model\n",
    "print(\"Classification Accuracy:\", accuracy_score(y_test_class, y_pred_class))\n",
    "print(\"Classification Report:\", classification_report(y_test_class, y_pred_class))"
   ]
  },
  {
   "cell_type": "code",
   "execution_count": 9,
   "id": "bc601a46",
   "metadata": {},
   "outputs": [
    {
     "name": "stdout",
     "output_type": "stream",
     "text": [
      "Regression Mean Squared Error: 0.0006130047540983617\n",
      "Regression R^2: 0.9548666137774241\n"
     ]
    }
   ],
   "source": [
    "#Training a Random Forest Classifier for regression\n",
    "rf_reg = RandomForestRegressor(n_estimators=100, random_state=42)\n",
    "rf_reg.fit(X_train_reg, y_train_reg)\n",
    "y_pred_reg = rf_reg.predict(X_test_reg)\n",
    "\n",
    "print (\"Regression Mean Squared Error:\", mean_squared_error(y_test_reg, y_pred_reg))\n",
    "print (\"Regression R^2:\", r2_score(y_test_reg, y_pred_reg))"
   ]
  },
  {
   "cell_type": "code",
   "execution_count": 10,
   "id": "0ce78b28",
   "metadata": {},
   "outputs": [
    {
     "data": {
      "image/png": "[encoded data removed]",
      "text/plain": [
       "<Figure size 640x480 with 1 Axes>"
      ]
     },
     "metadata": {},
     "output_type": "display_data"
    }
   ],
   "source": [
    "sns.regplot(x=y_test_reg, y=y_pred_reg, scatter_kws={\"color\":\"blue\"})\n",
    "plt.xlabel('Actual Average Price')\n",
    "plt.ylabel('Predicted Average Price')\n",
    "plt.title('Regression Results')\n",
    "plt.show()"
   ]
  },
  {
   "cell_type": "code",
   "execution_count": 11,
   "id": "1beb49a9",
   "metadata": {},
   "outputs": [],
   "source": [
    "from sklearn.model_selection import cross_val_score, KFold, GridSearchCV\n",
    "from sklearn.metrics import f1_score, accuracy_score, classification_report\n",
    "#defining Kfold Cross Validation\n",
    "kf = KFold(n_splits=5, random_state=42, shuffle=True)"
   ]
  },
  {
   "cell_type": "code",
   "execution_count": 12,
   "id": "ab228f2b",
   "metadata": {},
   "outputs": [
    {
     "name": "stdout",
     "output_type": "stream",
     "text": [
      "Best Parameters: {'max_depth': 10, 'min_samples_split': 2, 'n_estimators': 50}\n",
      "Best Accuracy: 1.0\n"
     ]
    }
   ],
   "source": [
    "#random forest hyper parameter tuning for classification\n",
    "\n",
    "param_grid_rf = {\n",
    "    'n_estimators':[50,100,200],\n",
    "    'max_depth': [10,20,30,None],\n",
    "    'min_samples_split': [2,5,10]\n",
    "}\n",
    "\n",
    "grid_rf = GridSearchCV(RandomForestClassifier(random_state=42), param_grid_rf, cv=kf,scoring='accuracy')\n",
    "grid_rf.fit(X_train_class, y_train_class)\n",
    "\n",
    "#best parameters and evaluation\n",
    "\n",
    "print(\"Best Parameters:\", grid_rf.best_params_)\n",
    "\n",
    "y_pred_class = grid_rf.best_estimator_.predict(X_test_class)\n",
    "print(\"Best Accuracy:\", accuracy_score(y_test_class, y_pred_class))"
   ]
  },
  {
   "cell_type": "code",
   "execution_count": 13,
   "id": "06e2beb7",
   "metadata": {},
   "outputs": [
    {
     "name": "stdout",
     "output_type": "stream",
     "text": [
      "Best Accuracy from Random Forest: 1.0\n",
      "Best F1-Score from Random Forest: 0.0\n",
      "Selected Random Forest model with Accuracy: 1.0\n"
     ]
    },
    {
     "name": "stderr",
     "output_type": "stream",
     "text": [
      "C:\\Users\\sheba\\anaconda3\\Lib\\site-packages\\sklearn\\metrics\\_classification.py:1757: UndefinedMetricWarning: F-score is ill-defined and being set to 0.0 due to no true nor predicted samples. Use `zero_division` parameter to control this behavior.\n",
      "  _warn_prf(average, \"true nor predicted\", \"F-score is\", len(true_sum))\n"
     ]
    }
   ],
   "source": [
    "# Hyperparameter grid for RandomForestClassifier\n",
    "param_grid_rf = {\n",
    "    'n_estimators': [50, 100, 200],\n",
    "    'max_depth': [10, 20, 30, None],\n",
    "    'min_samples_split': [2, 5, 10]\n",
    "}\n",
    "\n",
    "# Perform grid search cross-validation\n",
    "grid_rf = GridSearchCV(RandomForestClassifier(random_state=42), param_grid_rf, cv=5, scoring='accuracy')\n",
    "grid_rf.fit(X_train_class, y_train_class)\n",
    "\n",
    "# Predict and evaluate the best estimator from GridSearch\n",
    "y_pred_class = grid_rf.best_estimator_.predict(X_test_class)\n",
    "\n",
    "# Use the evaluation metric to select the best model\n",
    "accuracy = accuracy_score(y_test_class, y_pred_class)\n",
    "f1 = f1_score(y_test_class, y_pred_class)\n",
    "\n",
    "print(f\"Best Accuracy from Random Forest: {accuracy}\")\n",
    "print(f\"Best F1-Score from Random Forest: {f1}\")\n",
    "\n",
    "# Check for threshold to select the model\n",
    "if accuracy > 0.90: \n",
    "    best_class_model = grid_rf.best_estimator_\n",
    "    print(f\"Selected Random Forest model with Accuracy: {accuracy}\")\n",
    "else:\n",
    "    print(\"Model did not meet the accuracy threshold.\")\n"
   ]
  },
  {
   "cell_type": "code",
   "execution_count": 14,
   "id": "6e2f92da",
   "metadata": {},
   "outputs": [
    {
     "name": "stdout",
     "output_type": "stream",
     "text": [
      "Ridge Best MSE: 0.002801725747955569\n",
      "Lasso Best MSE: 0.00802135312348203\n"
     ]
    }
   ],
   "source": [
    "#Hyperparameter tuning for linear regression\n",
    "from sklearn.linear_model import Ridge, Lasso\n",
    "\n",
    "#Define the models\n",
    "ridge = Ridge()\n",
    "lasso = Lasso()\n",
    "\n",
    "#ridge and lasso regularization\n",
    "param_grid_ridge = {'alpha':[0.01,0.1,1.0,10,100]}\n",
    "param_grid_lasso = {'alpha':[0.01,0.1,1.0,10,100]}\n",
    "\n",
    "#define parameter grid for ridge and lasso\n",
    "grid_ridge = GridSearchCV(ridge, param_grid_ridge, cv=kf, scoring='neg_mean_squared_error')\n",
    "grid_lasso = GridSearchCV(lasso, param_grid_ridge, cv=kf, scoring='neg_mean_squared_error')\n",
    "\n",
    "grid_ridge.fit(X_train_reg, y_train_reg)\n",
    "grid_lasso.fit(X_train_reg,y_train_reg)\n",
    "\n",
    "#predict and evaluate the best model\n",
    "y_pred_ridge = grid_ridge.best_estimator_.predict(X_test_reg)\n",
    "y_pred_lasso = grid_lasso.best_estimator_.predict(X_test_reg)\n",
    "\n",
    "#Mean Squared Error\n",
    "print(\"Ridge Best MSE:\", mean_squared_error(y_test_reg, y_pred_ridge))\n",
    "print(\"Lasso Best MSE:\", mean_squared_error(y_test_reg, y_pred_lasso))\n"
   ]
  },
  {
   "cell_type": "code",
   "execution_count": 15,
   "id": "03e260a6",
   "metadata": {},
   "outputs": [
    {
     "name": "stdout",
     "output_type": "stream",
     "text": [
      "Ridge Regression selected with MSE: 0.002801725747955569\n"
     ]
    }
   ],
   "source": [
    "#Selecting the best model\n",
    "ridge_mse = mean_squared_error(y_test_reg, y_pred_ridge)\n",
    "lasso_mse = mean_squared_error(y_test_reg, y_pred_lasso)\n",
    "\n",
    "if ridge_mse < lasso_mse:\n",
    "      best_reg_model = grid_ridge.best_estimator_\n",
    "      print(\"Ridge Regression selected with MSE:\", ridge_mse)\n",
    "else:\n",
    "      best_reg_model = grid_lasso.best_estimator_\n",
    "      print(\"Lasso Regression selected with MSE:\", lasso_mse)                          \n"
   ]
  },
  {
   "cell_type": "code",
   "execution_count": 16,
   "id": "af4d01c7",
   "metadata": {},
   "outputs": [
    {
     "name": "stdout",
     "output_type": "stream",
     "text": [
      "Best models saved for production\n"
     ]
    }
   ],
   "source": [
    "import joblib\n",
    "\n",
    "#save classification model\n",
    "joblib.dump(best_class_model, 'best_class_model.pkl')\n",
    "\n",
    "#save regression model\n",
    "joblib.dump(best_class_model, 'best_reg_model.pkl')\n",
    "\n",
    "print (\"Best models saved for production\")"
   ]
  }
 ],
 "metadata": {
  "kernelspec": {
   "display_name": "Python 3 (ipykernel)",
   "language": "python",
   "name": "python3"
  },
  "language_info": {
   "codemirror_mode": {
    "name": "ipython",
    "version": 3
   },
   "file_extension": ".py",
   "mimetype": "text/x-python",
   "name": "python",
   "nbconvert_exporter": "python",
   "pygments_lexer": "ipython3",
   "version": "3.11.5"
  }
 },
 "nbformat": 4,
 "nbformat_minor": 5
}
