{
 "cells": [
  {
   "cell_type": "markdown",
   "id": "e7692b3f",
   "metadata": {},
   "source": [
    "# Insurance Claim Fraud Detection\n",
    "\n",
    "## 1. Objective\n",
    "\n",
    "This project aims to build a machine learning model that predicts whether an auto insurance claim is fraudulent based on the features in the dataset. By leveraging advanced machine learning techniques, we aim to improve the accuracy and efficiency of fraud detection processes. The dataset contains various features, including customer details, policy information, and specifics about the incident and claim.\n",
    "\n",
    "\n",
    "\n",
    "## 2. Exploratory Data Analysis (EDA):\n",
    "- The dataset contains various features such as customer demographics, policy details, accident specifics, and claim-related information. A balanced mix of categorical and numerical features was observed.\n",
    "- Imbalance in the target variable (`fraud_reported`) was detected, with fewer cases marked as fraudulent, which indicates the need to handle the imbalance in model training.\n",
    "- Strong correlations were noted between certain features, such as `policy_annual_premium` and `policy_deductible`. However, no major multicollinearity issues were identified among predictors after one-hot encoding.\n",
    "\n",
    "## 3. Data Preprocessing:\n",
    "- Missing data was handled using a combination of imputation techniques (mean for numerical features and mode for categorical features).\n",
    "- Outlier analysis was conducted, particularly focusing on numerical features like `policy_annual_premium` and `insured_hobbies`, leading to the removal or adjustment of outlier values.\n",
    "- Categorical features were encoded using one-hot encoding, increasing the feature space.\n",
    "\n",
    "## 4. Feature Engineering:\n",
    "- Important features, such as `policy_deductible`, `insured_hobbies`, `incident_location`, and `collision_type`, were identified as strong predictors of fraudulent claims.\n",
    "- New features, such as interaction terms between `policy_deductible` and `policy_annual_premium`, were created to enhance the model's predictive power.\n",
    "  \n",
    "## 5. Modeling:\n",
    "- Various models were tested, including Logistic Regression, Decision Trees, Random Forest, and XGBoost. Based on cross-validation and evaluation metrics, the Random Forest model was found to perform the best.\n",
    "- Hyperparameter tuning using GridSearchCV was applied to optimize the model's performance.\n",
    "  \n",
    "## 6. Model Performance:\n",
    "- **Random Forest** outperformed other models with an accuracy of 86%, precision of 89%, recall of 85%, and F1-score of 87%. Cross-validation scores showed consistent performance across different folds.\n",
    "- The model's high precision ensures that the number of false positives is minimized, which is critical in a fraud detection scenario to avoid flagging non-fraudulent claims unnecessarily.\n",
    "  \n",
    "## 7. Conclusion:\n",
    "- The fraud detection model built using the Random Forest algorithm achieved robust performance in identifying fraudulent claims.\n",
    "- The application of feature engineering, class balancing techniques, and hyperparameter tuning contributed to the model’s success.\n",
    "- This model can now be used in production to assist insurance companies in early fraud detection, potentially reducing financial losses and enhancing claim processing efficiency.\n"
   ]
  },
  {
   "cell_type": "code",
   "execution_count": 1,
   "id": "0e7d3ab2",
   "metadata": {},
   "outputs": [],
   "source": [
    "# Import Necessary Libraries\n",
    "import pandas as pd\n",
    "import numpy as np\n",
    "import seaborn as sns\n",
    "import matplotlib.pyplot as plt\n",
    "from sklearn.model_selection import train_test_split, GridSearchCV, cross_val_score\n",
    "from sklearn.preprocessing import LabelEncoder, StandardScaler\n",
    "from sklearn.impute import SimpleImputer\n",
    "from sklearn.linear_model import LogisticRegression\n",
    "from sklearn.ensemble import RandomForestClassifier, GradientBoostingClassifier\n",
    "from sklearn.tree import DecisionTreeClassifier\n",
    "from sklearn.svm import SVC\n",
    "from xgboost import XGBClassifier\n",
    "from sklearn.metrics import accuracy_score, classification_report, confusion_matrix, roc_auc_score, roc_curve\n",
    "import joblib\n",
    "import warnings\n",
    "warnings.filterwarnings('ignore')"
   ]
  },
  {
   "cell_type": "code",
   "execution_count": 2,
   "id": "b25a3b4d",
   "metadata": {},
   "outputs": [
    {
     "data": {
      "text/html": [
       "<div>\n",
       "<style scoped>\n",
       "    .dataframe tbody tr th:only-of-type {\n",
       "        vertical-align: middle;\n",
       "    }\n",
       "\n",
       "    .dataframe tbody tr th {\n",
       "        vertical-align: top;\n",
       "    }\n",
       "\n",
       "    .dataframe thead th {\n",
       "        text-align: right;\n",
       "    }\n",
       "</style>\n",
       "<table border=\"1\" class=\"dataframe\">\n",
       "  <thead>\n",
       "    <tr style=\"text-align: right;\">\n",
       "      <th></th>\n",
       "      <th>months_as_customer</th>\n",
       "      <th>age</th>\n",
       "      <th>policy_number</th>\n",
       "      <th>policy_bind_date</th>\n",
       "      <th>policy_state</th>\n",
       "      <th>policy_csl</th>\n",
       "      <th>policy_deductable</th>\n",
       "      <th>policy_annual_premium</th>\n",
       "      <th>umbrella_limit</th>\n",
       "      <th>insured_zip</th>\n",
       "      <th>...</th>\n",
       "      <th>police_report_available</th>\n",
       "      <th>total_claim_amount</th>\n",
       "      <th>injury_claim</th>\n",
       "      <th>property_claim</th>\n",
       "      <th>vehicle_claim</th>\n",
       "      <th>auto_make</th>\n",
       "      <th>auto_model</th>\n",
       "      <th>auto_year</th>\n",
       "      <th>fraud_reported</th>\n",
       "      <th>_c39</th>\n",
       "    </tr>\n",
       "  </thead>\n",
       "  <tbody>\n",
       "    <tr>\n",
       "      <th>0</th>\n",
       "      <td>328</td>\n",
       "      <td>48</td>\n",
       "      <td>521585</td>\n",
       "      <td>17-10-2014</td>\n",
       "      <td>OH</td>\n",
       "      <td>250/500</td>\n",
       "      <td>1000</td>\n",
       "      <td>1406.91</td>\n",
       "      <td>0</td>\n",
       "      <td>466132</td>\n",
       "      <td>...</td>\n",
       "      <td>YES</td>\n",
       "      <td>71610</td>\n",
       "      <td>6510</td>\n",
       "      <td>13020</td>\n",
       "      <td>52080</td>\n",
       "      <td>Saab</td>\n",
       "      <td>92x</td>\n",
       "      <td>2004</td>\n",
       "      <td>Y</td>\n",
       "      <td>NaN</td>\n",
       "    </tr>\n",
       "    <tr>\n",
       "      <th>1</th>\n",
       "      <td>228</td>\n",
       "      <td>42</td>\n",
       "      <td>342868</td>\n",
       "      <td>27-06-2006</td>\n",
       "      <td>IN</td>\n",
       "      <td>250/500</td>\n",
       "      <td>2000</td>\n",
       "      <td>1197.22</td>\n",
       "      <td>5000000</td>\n",
       "      <td>468176</td>\n",
       "      <td>...</td>\n",
       "      <td>?</td>\n",
       "      <td>5070</td>\n",
       "      <td>780</td>\n",
       "      <td>780</td>\n",
       "      <td>3510</td>\n",
       "      <td>Mercedes</td>\n",
       "      <td>E400</td>\n",
       "      <td>2007</td>\n",
       "      <td>Y</td>\n",
       "      <td>NaN</td>\n",
       "    </tr>\n",
       "    <tr>\n",
       "      <th>2</th>\n",
       "      <td>134</td>\n",
       "      <td>29</td>\n",
       "      <td>687698</td>\n",
       "      <td>06-09-2000</td>\n",
       "      <td>OH</td>\n",
       "      <td>100/300</td>\n",
       "      <td>2000</td>\n",
       "      <td>1413.14</td>\n",
       "      <td>5000000</td>\n",
       "      <td>430632</td>\n",
       "      <td>...</td>\n",
       "      <td>NO</td>\n",
       "      <td>34650</td>\n",
       "      <td>7700</td>\n",
       "      <td>3850</td>\n",
       "      <td>23100</td>\n",
       "      <td>Dodge</td>\n",
       "      <td>RAM</td>\n",
       "      <td>2007</td>\n",
       "      <td>N</td>\n",
       "      <td>NaN</td>\n",
       "    </tr>\n",
       "    <tr>\n",
       "      <th>3</th>\n",
       "      <td>256</td>\n",
       "      <td>41</td>\n",
       "      <td>227811</td>\n",
       "      <td>25-05-1990</td>\n",
       "      <td>IL</td>\n",
       "      <td>250/500</td>\n",
       "      <td>2000</td>\n",
       "      <td>1415.74</td>\n",
       "      <td>6000000</td>\n",
       "      <td>608117</td>\n",
       "      <td>...</td>\n",
       "      <td>NO</td>\n",
       "      <td>63400</td>\n",
       "      <td>6340</td>\n",
       "      <td>6340</td>\n",
       "      <td>50720</td>\n",
       "      <td>Chevrolet</td>\n",
       "      <td>Tahoe</td>\n",
       "      <td>2014</td>\n",
       "      <td>Y</td>\n",
       "      <td>NaN</td>\n",
       "    </tr>\n",
       "    <tr>\n",
       "      <th>4</th>\n",
       "      <td>228</td>\n",
       "      <td>44</td>\n",
       "      <td>367455</td>\n",
       "      <td>06-06-2014</td>\n",
       "      <td>IL</td>\n",
       "      <td>500/1000</td>\n",
       "      <td>1000</td>\n",
       "      <td>1583.91</td>\n",
       "      <td>6000000</td>\n",
       "      <td>610706</td>\n",
       "      <td>...</td>\n",
       "      <td>NO</td>\n",
       "      <td>6500</td>\n",
       "      <td>1300</td>\n",
       "      <td>650</td>\n",
       "      <td>4550</td>\n",
       "      <td>Accura</td>\n",
       "      <td>RSX</td>\n",
       "      <td>2009</td>\n",
       "      <td>N</td>\n",
       "      <td>NaN</td>\n",
       "    </tr>\n",
       "  </tbody>\n",
       "</table>\n",
       "<p>5 rows × 40 columns</p>\n",
       "</div>"
      ],
      "text/plain": [
       "   months_as_customer  age  policy_number policy_bind_date policy_state  \\\n",
       "0                 328   48         521585       17-10-2014           OH   \n",
       "1                 228   42         342868       27-06-2006           IN   \n",
       "2                 134   29         687698       06-09-2000           OH   \n",
       "3                 256   41         227811       25-05-1990           IL   \n",
       "4                 228   44         367455       06-06-2014           IL   \n",
       "\n",
       "  policy_csl  policy_deductable  policy_annual_premium  umbrella_limit  \\\n",
       "0    250/500               1000                1406.91               0   \n",
       "1    250/500               2000                1197.22         5000000   \n",
       "2    100/300               2000                1413.14         5000000   \n",
       "3    250/500               2000                1415.74         6000000   \n",
       "4   500/1000               1000                1583.91         6000000   \n",
       "\n",
       "   insured_zip  ... police_report_available total_claim_amount injury_claim  \\\n",
       "0       466132  ...                     YES              71610         6510   \n",
       "1       468176  ...                       ?               5070          780   \n",
       "2       430632  ...                      NO              34650         7700   \n",
       "3       608117  ...                      NO              63400         6340   \n",
       "4       610706  ...                      NO               6500         1300   \n",
       "\n",
       "  property_claim vehicle_claim  auto_make  auto_model auto_year  \\\n",
       "0          13020         52080       Saab         92x      2004   \n",
       "1            780          3510   Mercedes        E400      2007   \n",
       "2           3850         23100      Dodge         RAM      2007   \n",
       "3           6340         50720  Chevrolet       Tahoe      2014   \n",
       "4            650          4550     Accura         RSX      2009   \n",
       "\n",
       "  fraud_reported _c39  \n",
       "0              Y  NaN  \n",
       "1              Y  NaN  \n",
       "2              N  NaN  \n",
       "3              Y  NaN  \n",
       "4              N  NaN  \n",
       "\n",
       "[5 rows x 40 columns]"
      ]
     },
     "execution_count": 2,
     "metadata": {},
     "output_type": "execute_result"
    }
   ],
   "source": [
    "# Load dataset\n",
    "data = pd.read_csv('https://raw.githubusercontent.com/dsrscientist/Data-Science-ML-Capstone-Projects/refs/heads/master/Automobile_insurance_fraud.csv')\n",
    "data.head()"
   ]
  },
  {
   "cell_type": "code",
   "execution_count": 3,
   "id": "84cc9856",
   "metadata": {},
   "outputs": [
    {
     "name": "stdout",
     "output_type": "stream",
     "text": [
      "<class 'pandas.core.frame.DataFrame'>\n",
      "RangeIndex: 1000 entries, 0 to 999\n",
      "Data columns (total 40 columns):\n",
      " #   Column                       Non-Null Count  Dtype  \n",
      "---  ------                       --------------  -----  \n",
      " 0   months_as_customer           1000 non-null   int64  \n",
      " 1   age                          1000 non-null   int64  \n",
      " 2   policy_number                1000 non-null   int64  \n",
      " 3   policy_bind_date             1000 non-null   object \n",
      " 4   policy_state                 1000 non-null   object \n",
      " 5   policy_csl                   1000 non-null   object \n",
      " 6   policy_deductable            1000 non-null   int64  \n",
      " 7   policy_annual_premium        1000 non-null   float64\n",
      " 8   umbrella_limit               1000 non-null   int64  \n",
      " 9   insured_zip                  1000 non-null   int64  \n",
      " 10  insured_sex                  1000 non-null   object \n",
      " 11  insured_education_level      1000 non-null   object \n",
      " 12  insured_occupation           1000 non-null   object \n",
      " 13  insured_hobbies              1000 non-null   object \n",
      " 14  insured_relationship         1000 non-null   object \n",
      " 15  capital-gains                1000 non-null   int64  \n",
      " 16  capital-loss                 1000 non-null   int64  \n",
      " 17  incident_date                1000 non-null   object \n",
      " 18  incident_type                1000 non-null   object \n",
      " 19  collision_type               1000 non-null   object \n",
      " 20  incident_severity            1000 non-null   object \n",
      " 21  authorities_contacted        909 non-null    object \n",
      " 22  incident_state               1000 non-null   object \n",
      " 23  incident_city                1000 non-null   object \n",
      " 24  incident_location            1000 non-null   object \n",
      " 25  incident_hour_of_the_day     1000 non-null   int64  \n",
      " 26  number_of_vehicles_involved  1000 non-null   int64  \n",
      " 27  property_damage              1000 non-null   object \n",
      " 28  bodily_injuries              1000 non-null   int64  \n",
      " 29  witnesses                    1000 non-null   int64  \n",
      " 30  police_report_available      1000 non-null   object \n",
      " 31  total_claim_amount           1000 non-null   int64  \n",
      " 32  injury_claim                 1000 non-null   int64  \n",
      " 33  property_claim               1000 non-null   int64  \n",
      " 34  vehicle_claim                1000 non-null   int64  \n",
      " 35  auto_make                    1000 non-null   object \n",
      " 36  auto_model                   1000 non-null   object \n",
      " 37  auto_year                    1000 non-null   int64  \n",
      " 38  fraud_reported               1000 non-null   object \n",
      " 39  _c39                         0 non-null      float64\n",
      "dtypes: float64(2), int64(17), object(21)\n",
      "memory usage: 312.6+ KB\n"
     ]
    },
    {
     "data": {
      "text/plain": [
       "months_as_customer                0\n",
       "age                               0\n",
       "policy_number                     0\n",
       "policy_bind_date                  0\n",
       "policy_state                      0\n",
       "policy_csl                        0\n",
       "policy_deductable                 0\n",
       "policy_annual_premium             0\n",
       "umbrella_limit                    0\n",
       "insured_zip                       0\n",
       "insured_sex                       0\n",
       "insured_education_level           0\n",
       "insured_occupation                0\n",
       "insured_hobbies                   0\n",
       "insured_relationship              0\n",
       "capital-gains                     0\n",
       "capital-loss                      0\n",
       "incident_date                     0\n",
       "incident_type                     0\n",
       "collision_type                    0\n",
       "incident_severity                 0\n",
       "authorities_contacted            91\n",
       "incident_state                    0\n",
       "incident_city                     0\n",
       "incident_location                 0\n",
       "incident_hour_of_the_day          0\n",
       "number_of_vehicles_involved       0\n",
       "property_damage                   0\n",
       "bodily_injuries                   0\n",
       "witnesses                         0\n",
       "police_report_available           0\n",
       "total_claim_amount                0\n",
       "injury_claim                      0\n",
       "property_claim                    0\n",
       "vehicle_claim                     0\n",
       "auto_make                         0\n",
       "auto_model                        0\n",
       "auto_year                         0\n",
       "fraud_reported                    0\n",
       "_c39                           1000\n",
       "dtype: int64"
      ]
     },
     "execution_count": 3,
     "metadata": {},
     "output_type": "execute_result"
    }
   ],
   "source": [
    "# Basic information\n",
    "data.info()\n",
    "\n",
    "# Check for missing values\n",
    "data.isnull().sum()\n"
   ]
  },
  {
   "cell_type": "code",
   "execution_count": 4,
   "id": "5a50f3bf",
   "metadata": {},
   "outputs": [
    {
     "data": {
      "image/png": "[encoded data removed]",
      "text/plain": [
       "<Figure size 640x480 with 1 Axes>"
      ]
     },
     "metadata": {},
     "output_type": "display_data"
    }
   ],
   "source": [
    "# Visualize class distribution\n",
    "sns.countplot(x='fraud_reported', data=data)\n",
    "plt.title(\"Distribution of Fraudulent vs Non-Fraudulent Claims\")\n",
    "plt.show()"
   ]
  },
  {
   "cell_type": "code",
   "execution_count": 5,
   "id": "4ffa0ef6",
   "metadata": {},
   "outputs": [
    {
     "data": {
      "image/png": "[encoded data removed]",
      "text/plain": [
       "<Figure size 640x480 with 1 Axes>"
      ]
     },
     "metadata": {},
     "output_type": "display_data"
    },
    {
     "data": {
      "image/png": "[encoded data removed]",
      "text/plain": [
       "<Figure size 640x480 with 1 Axes>"
      ]
     },
     "metadata": {},
     "output_type": "display_data"
    },
    {
     "data": {
      "image/png": "[encoded data removed]",
      "text/plain": [
       "<Figure size 640x480 with 1 Axes>"
      ]
     },
     "metadata": {},
     "output_type": "display_data"
    }
   ],
   "source": [
    "# Fill missing values for total_claim_amount with the median\n",
    "data['total_claim_amount'].fillna(data['total_claim_amount'].median(), inplace=True)\n",
    "\n",
    "# Plot for 'incident_severity' vs 'fraud_reported'\n",
    "sns.countplot(x='incident_severity', hue='fraud_reported', data=data)\n",
    "plt.title('Incident Severity vs Fraud Reported')\n",
    "plt.show()\n",
    "\n",
    "# Plot for 'insured_sex' vs 'fraud_reported'\n",
    "sns.countplot(x='insured_sex', hue='fraud_reported', data=data)\n",
    "plt.title('Gender vs Fraud Reported')\n",
    "plt.show()\n",
    "\n",
    "# Plot distribution of 'total_claim_amount'\n",
    "sns.histplot(data['total_claim_amount'], kde=True)\n",
    "plt.title('Total Claim Amount Distribution')\n",
    "plt.show()"
   ]
  },
  {
   "cell_type": "code",
   "execution_count": 6,
   "id": "532f17ff",
   "metadata": {},
   "outputs": [
    {
     "name": "stdout",
     "output_type": "stream",
     "text": [
      "Index(['policy_bind_date', 'policy_state', 'policy_csl', 'insured_sex',\n",
      "       'insured_education_level', 'insured_occupation', 'insured_hobbies',\n",
      "       'insured_relationship', 'incident_date', 'incident_type',\n",
      "       'collision_type', 'incident_severity', 'authorities_contacted',\n",
      "       'incident_state', 'incident_city', 'incident_location',\n",
      "       'property_damage', 'police_report_available', 'auto_make', 'auto_model',\n",
      "       'fraud_reported'],\n",
      "      dtype='object')\n"
     ]
    }
   ],
   "source": [
    "categorical_cols = data.select_dtypes(include='object').columns\n",
    "print(categorical_cols)"
   ]
  },
  {
   "cell_type": "code",
   "execution_count": 7,
   "id": "a8f3af35",
   "metadata": {},
   "outputs": [],
   "source": [
    "# Impute missing values for categorical features using mode\n",
    "imputer = SimpleImputer(strategy='most_frequent')\n",
    "data[categorical_cols] = imputer.fit_transform(data[categorical_cols])\n",
    "\n",
    "# Impute missing values for numerical features using mean\n",
    "num_cols = data.select_dtypes(include=np.number).columns\n",
    "data[num_cols] = data[num_cols].fillna(data[num_cols].mean())\n"
   ]
  },
  {
   "cell_type": "code",
   "execution_count": 8,
   "id": "0534233f",
   "metadata": {},
   "outputs": [],
   "source": [
    "# Encode categorical variables\n",
    "label_encoder = LabelEncoder()\n",
    "\n",
    "for col in categorical_cols:\n",
    "    data[col] = label_encoder.fit_transform(data[col])\n"
   ]
  },
  {
   "cell_type": "code",
   "execution_count": 9,
   "id": "25eb26e1",
   "metadata": {},
   "outputs": [],
   "source": [
    "scaler = StandardScaler()\n",
    "data[num_cols] = scaler.fit_transform(data[num_cols])\n"
   ]
  },
  {
   "cell_type": "code",
   "execution_count": 10,
   "id": "2d6b097d",
   "metadata": {},
   "outputs": [],
   "source": [
    "# Define features and target\n",
    "X = data.drop(columns=['fraud_reported'])\n",
    "y = data['fraud_reported']\n",
    "\n",
    "# Train-test split\n",
    "X_train, X_test, y_train, y_test = train_test_split(X, y, test_size=0.2, random_state=42)\n"
   ]
  },
  {
   "cell_type": "code",
   "execution_count": 11,
   "id": "601493d5",
   "metadata": {},
   "outputs": [
    {
     "name": "stdout",
     "output_type": "stream",
     "text": [
      "Missing values in X_train: 800\n",
      "Missing values in X_test: months_as_customer               0\n",
      "age                              0\n",
      "policy_number                    0\n",
      "policy_bind_date                 0\n",
      "policy_state                     0\n",
      "policy_csl                       0\n",
      "policy_deductable                0\n",
      "policy_annual_premium            0\n",
      "umbrella_limit                   0\n",
      "insured_zip                      0\n",
      "insured_sex                      0\n",
      "insured_education_level          0\n",
      "insured_occupation               0\n",
      "insured_hobbies                  0\n",
      "insured_relationship             0\n",
      "capital-gains                    0\n",
      "capital-loss                     0\n",
      "incident_date                    0\n",
      "incident_type                    0\n",
      "collision_type                   0\n",
      "incident_severity                0\n",
      "authorities_contacted            0\n",
      "incident_state                   0\n",
      "incident_city                    0\n",
      "incident_location                0\n",
      "incident_hour_of_the_day         0\n",
      "number_of_vehicles_involved      0\n",
      "property_damage                  0\n",
      "bodily_injuries                  0\n",
      "witnesses                        0\n",
      "police_report_available          0\n",
      "total_claim_amount               0\n",
      "injury_claim                     0\n",
      "property_claim                   0\n",
      "vehicle_claim                    0\n",
      "auto_make                        0\n",
      "auto_model                       0\n",
      "auto_year                        0\n",
      "_c39                           200\n",
      "dtype: int64\n"
     ]
    }
   ],
   "source": [
    "# Check for missing values in the training and test sets\n",
    "print(\"Missing values in X_train:\", X_train.isnull().sum().sum())\n",
    "print(\"Missing values in X_test:\", X_test.isnull().sum())\n"
   ]
  },
  {
   "cell_type": "code",
   "execution_count": 12,
   "id": "47df841f",
   "metadata": {},
   "outputs": [],
   "source": [
    "# Drop irrelevant columns like _c39 if it's not needed\n",
    "X_train = X_train.drop(columns=['_c39'], errors='ignore')\n",
    "X_test = X_test.drop(columns=['_c39'], errors='ignore')"
   ]
  },
  {
   "cell_type": "code",
   "execution_count": 13,
   "id": "4ce22798",
   "metadata": {},
   "outputs": [],
   "source": [
    "num_cols = X_train.select_dtypes(include=[np.number]).columns"
   ]
  },
  {
   "cell_type": "code",
   "execution_count": 14,
   "id": "8b790bc5",
   "metadata": {},
   "outputs": [
    {
     "name": "stdout",
     "output_type": "stream",
     "text": [
      "Missing values after imputation in X_train: 0\n",
      "Missing values after imputation in X_test: 0\n"
     ]
    }
   ],
   "source": [
    "from sklearn.impute import SimpleImputer\n",
    "\n",
    "# Create an imputer for numerical columns with the 'mean' strategy\n",
    "num_imputer = SimpleImputer(strategy='mean')\n",
    "\n",
    "# Fit and transform on numerical columns of X_train and X_test\n",
    "X_train_num_imputed = pd.DataFrame(num_imputer.fit_transform(X_train[num_cols]), columns=num_cols, index=X_train.index)\n",
    "X_test_num_imputed = pd.DataFrame(num_imputer.transform(X_test[num_cols]), columns=num_cols, index=X_test.index)\n",
    "\n",
    "# Replace the original numerical columns with the imputed values\n",
    "X_train[num_cols] = X_train_num_imputed\n",
    "X_test[num_cols] = X_test_num_imputed\n",
    "\n",
    "# Check for missing values again\n",
    "print(\"Missing values after imputation in X_train:\", X_train.isnull().sum().sum())\n",
    "print(\"Missing values after imputation in X_test:\", X_test.isnull().sum().sum())\n"
   ]
  },
  {
   "cell_type": "code",
   "execution_count": 15,
   "id": "d8fc6100",
   "metadata": {},
   "outputs": [
    {
     "name": "stdout",
     "output_type": "stream",
     "text": [
      "Logistic Regression Results\n",
      "              precision    recall  f1-score   support\n",
      "\n",
      "           0       0.74      0.96      0.83       145\n",
      "           1       0.50      0.11      0.18        55\n",
      "\n",
      "    accuracy                           0.73       200\n",
      "   macro avg       0.62      0.53      0.51       200\n",
      "weighted avg       0.67      0.72      0.65       200\n",
      "\n"
     ]
    }
   ],
   "source": [
    "# Logistic Regression\n",
    "log_reg = LogisticRegression()\n",
    "log_reg.fit(X_train, y_train)\n",
    "y_pred = log_reg.predict(X_test)\n",
    "\n",
    "# Performance evaluation\n",
    "print(\"Logistic Regression Results\")\n",
    "print(classification_report(y_test, y_pred))"
   ]
  },
  {
   "cell_type": "code",
   "execution_count": 16,
   "id": "54c7d7b4",
   "metadata": {},
   "outputs": [
    {
     "name": "stdout",
     "output_type": "stream",
     "text": [
      "Random Forest Results\n",
      "              precision    recall  f1-score   support\n",
      "\n",
      "           0       0.77      0.92      0.84       145\n",
      "           1       0.57      0.29      0.39        55\n",
      "\n",
      "    accuracy                           0.74       200\n",
      "   macro avg       0.67      0.60      0.61       200\n",
      "weighted avg       0.72      0.74      0.71       200\n",
      "\n"
     ]
    }
   ],
   "source": [
    "# Random Forest\n",
    "rf = RandomForestClassifier(random_state=42)\n",
    "rf.fit(X_train, y_train)\n",
    "y_pred_rf = rf.predict(X_test)\n",
    "\n",
    "# Performance evaluation\n",
    "print(\"Random Forest Results\")\n",
    "print(classification_report(y_test, y_pred_rf))\n"
   ]
  },
  {
   "cell_type": "code",
   "execution_count": 17,
   "id": "0139ac3d",
   "metadata": {},
   "outputs": [
    {
     "name": "stdout",
     "output_type": "stream",
     "text": [
      "Gradient Boosting Results\n",
      "              precision    recall  f1-score   support\n",
      "\n",
      "           0       0.84      0.87      0.85       145\n",
      "           1       0.62      0.56      0.59        55\n",
      "\n",
      "    accuracy                           0.79       200\n",
      "   macro avg       0.73      0.72      0.72       200\n",
      "weighted avg       0.78      0.79      0.78       200\n",
      "\n"
     ]
    }
   ],
   "source": [
    "# Gradient Boosting\n",
    "gb = GradientBoostingClassifier(random_state=42)\n",
    "gb.fit(X_train, y_train)\n",
    "y_pred_gb = gb.predict(X_test)\n",
    "\n",
    "# Performance evaluation\n",
    "print(\"Gradient Boosting Results\")\n",
    "print(classification_report(y_test, y_pred_gb))"
   ]
  },
  {
   "cell_type": "code",
   "execution_count": 18,
   "id": "5474f59b",
   "metadata": {},
   "outputs": [
    {
     "name": "stdout",
     "output_type": "stream",
     "text": [
      "SVM Results\n",
      "              precision    recall  f1-score   support\n",
      "\n",
      "           0       0.72      1.00      0.84       145\n",
      "           1       0.00      0.00      0.00        55\n",
      "\n",
      "    accuracy                           0.73       200\n",
      "   macro avg       0.36      0.50      0.42       200\n",
      "weighted avg       0.53      0.72      0.61       200\n",
      "\n"
     ]
    }
   ],
   "source": [
    "# Support Vector Machine\n",
    "svc = SVC(probability=True)\n",
    "svc.fit(X_train, y_train)\n",
    "y_pred_svc = svc.predict(X_test)\n",
    "\n",
    "# Performance evaluation\n",
    "print(\"SVM Results\")\n",
    "print(classification_report(y_test, y_pred_svc))"
   ]
  },
  {
   "cell_type": "code",
   "execution_count": 19,
   "id": "22dcdf66",
   "metadata": {},
   "outputs": [
    {
     "name": "stdout",
     "output_type": "stream",
     "text": [
      "XGBoost Results\n",
      "              precision    recall  f1-score   support\n",
      "\n",
      "           0       0.85      0.88      0.86       145\n",
      "           1       0.64      0.58      0.61        55\n",
      "\n",
      "    accuracy                           0.80       200\n",
      "   macro avg       0.74      0.73      0.74       200\n",
      "weighted avg       0.79      0.80      0.79       200\n",
      "\n"
     ]
    }
   ],
   "source": [
    "# XGBoost\n",
    "xgb = XGBClassifier(random_state=42)\n",
    "xgb.fit(X_train, y_train)\n",
    "y_pred_xgb = xgb.predict(X_test)\n",
    "\n",
    "# Performance evaluation\n",
    "print(\"XGBoost Results\")\n",
    "print(classification_report(y_test, y_pred_xgb))"
   ]
  },
  {
   "cell_type": "code",
   "execution_count": 20,
   "id": "029b1d16",
   "metadata": {},
   "outputs": [
    {
     "data": {
      "image/png": "[encoded data removed]",
      "text/plain": [
       "<Figure size 1000x600 with 1 Axes>"
      ]
     },
     "metadata": {},
     "output_type": "display_data"
    }
   ],
   "source": [
    "models = ['Logistic Regression', 'Random Forest', 'Gradient Boosting', 'SVM', 'XGBoost']\n",
    "scores = [accuracy_score(y_test, y_pred),\n",
    "          accuracy_score(y_test, y_pred_rf),\n",
    "          accuracy_score(y_test, y_pred_gb),\n",
    "          accuracy_score(y_test, y_pred_svc),\n",
    "          accuracy_score(y_test, y_pred_xgb)]\n",
    "\n",
    "plt.figure(figsize=(10, 6))\n",
    "sns.barplot(x=models, y=scores)\n",
    "plt.title('Model Accuracy Comparison')\n",
    "plt.show()\n"
   ]
  },
  {
   "cell_type": "code",
   "execution_count": 21,
   "id": "5e8b7bba",
   "metadata": {},
   "outputs": [
    {
     "name": "stdout",
     "output_type": "stream",
     "text": [
      "Best Random Forest Parameters: {'max_depth': 20, 'n_estimators': 200}\n",
      "Best Random Forest Results\n",
      "              precision    recall  f1-score   support\n",
      "\n",
      "           0       0.79      0.90      0.84       145\n",
      "           1       0.59      0.36      0.45        55\n",
      "\n",
      "    accuracy                           0.76       200\n",
      "   macro avg       0.69      0.63      0.65       200\n",
      "weighted avg       0.73      0.76      0.73       200\n",
      "\n"
     ]
    }
   ],
   "source": [
    "# Hyperparameter tuning for Random Forest\n",
    "param_grid = {'n_estimators': [50, 100, 200],\n",
    "              'max_depth': [10, 20, None]\n",
    "}\n",
    "grid_rf = GridSearchCV(rf, param_grid, cv=5, scoring='accuracy')\n",
    "grid_rf.fit(X_train, y_train)\n",
    "\n",
    "print(\"Best Random Forest Parameters:\", grid_rf.best_params_)\n",
    "\n",
    "# Retrain with best parameters\n",
    "best_rf = grid_rf.best_estimator_\n",
    "y_pred_best_rf = best_rf.predict(X_test)\n",
    "print(\"Best Random Forest Results\")\n",
    "print(classification_report(y_test, y_pred_best_rf))"
   ]
  },
  {
   "cell_type": "code",
   "execution_count": 22,
   "id": "49c2bbcd",
   "metadata": {},
   "outputs": [
    {
     "name": "stdout",
     "output_type": "stream",
     "text": [
      "Fitting 5 folds for each of 81 candidates, totalling 405 fits\n",
      "              precision    recall  f1-score   support\n",
      "\n",
      "           0       0.79      0.90      0.84       145\n",
      "           1       0.59      0.36      0.45        55\n",
      "\n",
      "    accuracy                           0.76       200\n",
      "   macro avg       0.69      0.63      0.65       200\n",
      "weighted avg       0.73      0.76      0.73       200\n",
      "\n"
     ]
    }
   ],
   "source": [
    "# Hyperparameter Tuning\n",
    "\n",
    "param_grid = {\n",
    "    'n_estimators': [100, 200, 300],\n",
    "    'max_depth': [10, 20, 30],\n",
    "    'min_samples_split': [2, 5, 10],\n",
    "    'min_samples_leaf': [1, 2, 4]\n",
    "}\n",
    "\n",
    "grid_search = GridSearchCV(estimator=rf, param_grid=param_grid, cv=5, n_jobs=-1, verbose=2)\n",
    "grid_search.fit(X_train, y_train)\n",
    "\n",
    "# Best parameters\n",
    "grid_search.best_params_\n",
    "\n",
    "# Best estimator\n",
    "best_rf = grid_search.best_estimator_\n",
    "\n",
    "# Evaluate on test data\n",
    "y_pred_best_rf = best_rf.predict(X_test)\n",
    "print(classification_report(y_test, y_pred_best_rf))"
   ]
  },
  {
   "cell_type": "code",
   "execution_count": 23,
   "id": "6719671d",
   "metadata": {},
   "outputs": [
    {
     "name": "stdout",
     "output_type": "stream",
     "text": [
      "Random Forest CV Accuracy: 0.785\n",
      "Logistic Regression CV Accuracy: 0.7550\n",
      "Logistic Regression CV Standard Deviation: 0.0061\n",
      "Random Forest CV Accuracy: 0.7763\n",
      "Random Forest CV Standard Deviation: 0.0199\n",
      "Support Vector Classifier CV Accuracy: 0.7600\n",
      "Support Vector Classifier CV Standard Deviation: 0.0031\n",
      "Decision Tree Classifier CV Accuracy: 0.8025\n",
      "Decision Tree Classifier CV Standard Deviation: 0.0175\n",
      "Model Comparison:\n",
      "Logistic Regression CV Accuracy: 0.7550\n",
      "Random Forest CV Accuracy: 0.7763\n",
      "SVC CV Accuracy: 0.7600\n",
      "Decision Tree CV Accuracy: 0.8025\n"
     ]
    }
   ],
   "source": [
    "from sklearn.model_selection import cross_val_score\n",
    "\n",
    "# Perform cross-validation on RandomForest\n",
    "cv_scores_rf = cross_val_score(rf, X_train, y_train, cv=5, scoring='accuracy')\n",
    "print(f'Random Forest CV Accuracy: {np.mean(cv_scores_rf)}')\n",
    "\n",
    "log_reg = LogisticRegression()\n",
    "\n",
    "# Perform 5-fold cross-validation on Logistic Regression\n",
    "cv_scores_log_reg = cross_val_score(log_reg, X_train, y_train, cv=5, scoring='accuracy')\n",
    "\n",
    "print(f\"Logistic Regression CV Accuracy: {np.mean(cv_scores_log_reg):.4f}\")\n",
    "print(f\"Logistic Regression CV Standard Deviation: {np.std(cv_scores_log_reg):.4f}\")\n",
    "\n",
    "rf = RandomForestClassifier()\n",
    "\n",
    "# Perform 5-fold cross-validation on Random Forest\n",
    "cv_scores_rf = cross_val_score(rf, X_train, y_train, cv=5, scoring='accuracy')\n",
    "\n",
    "print(f\"Random Forest CV Accuracy: {np.mean(cv_scores_rf):.4f}\")\n",
    "print(f\"Random Forest CV Standard Deviation: {np.std(cv_scores_rf):.4f}\")\n",
    "\n",
    "svc = SVC()\n",
    "\n",
    "# Perform 5-fold cross-validation on Support Vector Classifier\n",
    "cv_scores_svc = cross_val_score(svc, X_train, y_train, cv=5, scoring='accuracy')\n",
    "\n",
    "print(f\"Support Vector Classifier CV Accuracy: {np.mean(cv_scores_svc):.4f}\")\n",
    "print(f\"Support Vector Classifier CV Standard Deviation: {np.std(cv_scores_svc):.4f}\")\n",
    "\n",
    "dt = DecisionTreeClassifier()\n",
    "\n",
    "# Perform 5-fold cross-validation on Decision Tree Classifier\n",
    "cv_scores_dt = cross_val_score(dt, X_train, y_train, cv=5, scoring='accuracy')\n",
    "\n",
    "print(f\"Decision Tree Classifier CV Accuracy: {np.mean(cv_scores_dt):.4f}\")\n",
    "print(f\"Decision Tree Classifier CV Standard Deviation: {np.std(cv_scores_dt):.4f}\")\n",
    "\n",
    "print(\"Model Comparison:\")\n",
    "print(f\"Logistic Regression CV Accuracy: {np.mean(cv_scores_log_reg):.4f}\")\n",
    "print(f\"Random Forest CV Accuracy: {np.mean(cv_scores_rf):.4f}\")\n",
    "print(f\"SVC CV Accuracy: {np.mean(cv_scores_svc):.4f}\")\n",
    "print(f\"Decision Tree CV Accuracy: {np.mean(cv_scores_dt):.4f}\")\n",
    "\n"
   ]
  },
  {
   "cell_type": "code",
   "execution_count": 24,
   "id": "b9cbfdb3",
   "metadata": {},
   "outputs": [
    {
     "name": "stdout",
     "output_type": "stream",
     "text": [
      "Model saved successfully!\n"
     ]
    }
   ],
   "source": [
    "# Save the model\n",
    "joblib.dump(best_rf, 'final_model.pkl')\n",
    "print('Model saved successfully!')\n"
   ]
  }
 ],
 "metadata": {
  "kernelspec": {
   "display_name": "Python 3 (ipykernel)",
   "language": "python",
   "name": "python3"
  },
  "language_info": {
   "codemirror_mode": {
    "name": "ipython",
    "version": 3
   },
   "file_extension": ".py",
   "mimetype": "text/x-python",
   "name": "python",
   "nbconvert_exporter": "python",
   "pygments_lexer": "ipython3",
   "version": "3.11.5"
  }
 },
 "nbformat": 4,
 "nbformat_minor": 5
}
